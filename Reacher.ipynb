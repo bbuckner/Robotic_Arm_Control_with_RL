{
 "cells": [
  {
   "cell_type": "markdown",
   "metadata": {},
   "source": [
    "# Imports"
   ]
  },
  {
   "cell_type": "code",
   "execution_count": 1,
   "metadata": {},
   "outputs": [],
   "source": [
    "import numpy as np\n",
    "import copy\n",
    "import random\n",
    "from collections import namedtuple, deque\n",
    "import torch\n",
    "import torch.nn as nn\n",
    "import torch.optim as optim\n",
    "import torch.nn.functional as F\n",
    "from unityagents import UnityEnvironment\n",
    "import matplotlib.pyplot as plt\n",
    "%matplotlib inline"
   ]
  },
  {
   "cell_type": "markdown",
   "metadata": {},
   "source": [
    "# Class Definitions"
   ]
  },
  {
   "cell_type": "code",
   "execution_count": 2,
   "metadata": {},
   "outputs": [],
   "source": [
    "class DDPG_Agent():\n",
    "    def __init__(self, state_size, action_size, n_agents, random_seed):\n",
    "        self.state_size = state_size\n",
    "        self.action_size = action_size\n",
    "        self.seed = random.seed(random_seed)\n",
    "\n",
    "        # Actor Network (w/ Target Network)\n",
    "        self.actor_local = Actor(state_size, action_size, random_seed).to(device)\n",
    "        self.actor_target = Actor(state_size, action_size, random_seed).to(device)\n",
    "        self.hard_update(self.actor_local, self.actor_target)\n",
    "        self.actor_optimizer = optim.Adam(self.actor_local.parameters(), lr=LR_ACTOR)\n",
    "\n",
    "        # Critic Network (w/ Target Network)\n",
    "        self.critic_local = Critic(state_size, action_size, random_seed).to(device)\n",
    "        self.critic_target = Critic(state_size, action_size, random_seed).to(device)\n",
    "        self.hard_update(self.critic_local, self.critic_target)\n",
    "        self.critic_optimizer = optim.Adam(self.critic_local.parameters(), lr=LR_CRITIC)\n",
    "\n",
    "        # Noise process\n",
    "        self.noise = OUNoise((n_agents, action_size), random_seed)\n",
    "\n",
    "        # Replay memory\n",
    "        self.memory = ReplayBuffer(BUFFER_SIZE, BATCH_SIZE, random_seed)\n",
    "        \n",
    "        # Keep track of time\n",
    "        self.t = 0\n",
    "        \n",
    "    \n",
    "    def step(self, states, actions, rewards, next_states, dones):\n",
    "        # Function is able to accept list of lists for all independent agent experiences per timestep and upzip them\n",
    "        self.t += 1\n",
    "        # Save experience / reward\n",
    "        for state, action, reward, next_state, done in zip(states, actions, rewards, next_states, dones):\n",
    "            self.memory.add(state, action, reward, next_state, done)\n",
    "\n",
    "        # Learn, if enough samples are available in memory\n",
    "        if len(self.memory) > BATCH_SIZE and self.t % UPDATE_FREQUENCY == 0:\n",
    "            for _ in range(UPDATE_AMOUNT):\n",
    "                experiences = self.memory.sample()\n",
    "                self.learn(experiences, GAMMA)\n",
    "\n",
    "    def act(self, state, add_noise=True):\n",
    "        state = torch.from_numpy(state).float().to(device)\n",
    "        self.actor_local.eval()\n",
    "        with torch.no_grad():\n",
    "            action = self.actor_local(state).cpu().data.numpy()\n",
    "        self.actor_local.train()\n",
    "        if add_noise:\n",
    "            action += self.noise.sample()\n",
    "        action = np.clip(action,-1,1)\n",
    "        return action\n",
    "\n",
    "    def reset(self):\n",
    "        self.t = 0\n",
    "        self.noise.reset()\n",
    "\n",
    "    def learn(self, experiences, gamma):\n",
    "        states, actions, rewards, next_states, dones = experiences\n",
    "        # ---------------------------- update critic ---------------------------- #\n",
    "        # Get predicted next-state actions and Q values from target models\n",
    "        actions_next = self.actor_target(next_states)\n",
    "        Q_targets_next = self.critic_target(next_states, actions_next)\n",
    "        # Compute Q targets for current states (y_i)\n",
    "        Q_targets = rewards + (gamma * Q_targets_next * (1 - dones))\n",
    "        # Compute critic loss\n",
    "        Q_expected = self.critic_local(states, actions)\n",
    "        critic_loss = F.mse_loss(Q_expected, Q_targets)\n",
    "        # Minimize the loss\n",
    "        self.critic_optimizer.zero_grad()\n",
    "        critic_loss.backward()\n",
    "        torch.nn.utils.clip_grad_norm_(self.critic_local.parameters(), 1)\n",
    "        self.critic_optimizer.step()\n",
    "        # ---------------------------- update actor ---------------------------- #\n",
    "        # Compute actor loss\n",
    "        actions_pred = self.actor_local(states)\n",
    "        actor_loss = -self.critic_local(states, actions_pred).mean()\n",
    "        # Minimize the loss\n",
    "        self.actor_optimizer.zero_grad()\n",
    "        actor_loss.backward()\n",
    "        self.actor_optimizer.step()\n",
    "        # ----------------------- update target networks ----------------------- #\n",
    "        self.soft_update(self.critic_local, self.critic_target, TAU)\n",
    "        self.soft_update(self.actor_local, self.actor_target, TAU)\n",
    "\n",
    "    def soft_update(self, local_model, target_model, tau):\n",
    "        for target_param, local_param in zip(target_model.parameters(), local_model.parameters()):\n",
    "            target_param.data.copy_(tau*local_param.data + (1.0-tau)*target_param.data)\n",
    "    \n",
    "    def hard_update(self, local_model, target_model):\n",
    "        for target_param, local_param in zip(target_model.parameters(), local_model.parameters()):\n",
    "            target_param.data.copy_(local_param.data)\n",
    "    \n",
    "    def save_models(self):\n",
    "        torch.save(self.actor_local.state_dict(), 'best_actor.pt')\n",
    "        torch.save(self.critic_local.state_dict(), 'best_critic.pt')\n",
    "    \n",
    "    def load_models(self):\n",
    "        self.actor_local.load_state_dict(torch.load('best_actor.pt'))\n",
    "        self.critic_local.load_state_dict(torch.load('best_critic.pt'))"
   ]
  },
  {
   "cell_type": "code",
   "execution_count": 3,
   "metadata": {},
   "outputs": [],
   "source": [
    "class OUNoise:\n",
    "    def __init__(self, size, seed, mu=0., theta=0.15, sigma=0.2):\n",
    "        self.mu = mu * np.ones(size)\n",
    "        self.theta = theta\n",
    "        self.sigma = sigma\n",
    "        self.seed = np.random.seed(seed)\n",
    "        self.size = size\n",
    "        self.reset()\n",
    "\n",
    "    def reset(self):\n",
    "        self.state = copy.copy(self.mu)\n",
    "\n",
    "    def sample(self):\n",
    "        x = self.state  \n",
    "        dx = self.theta * (self.mu - x) + self.sigma * np.random.standard_normal(self.size)\n",
    "        self.state = x + dx\n",
    "        return self.state"
   ]
  },
  {
   "cell_type": "code",
   "execution_count": 4,
   "metadata": {},
   "outputs": [],
   "source": [
    "class ReplayBuffer:\n",
    "    def __init__(self, buffer_size, batch_size, seed):\n",
    "        self.memory = deque(maxlen=buffer_size)  # internal memory (deque)\n",
    "        self.batch_size = batch_size\n",
    "        self.experience = namedtuple(\"Experience\", field_names=[\"state\", \"action\", \"reward\", \"next_state\", \"done\"])\n",
    "        self.seed = random.seed(seed)\n",
    "    \n",
    "    def add(self, state, action, reward, next_state, done):\n",
    "        e = self.experience(state, action, reward, next_state, done)\n",
    "        self.memory.append(e)\n",
    "    \n",
    "    def sample(self):\n",
    "        experiences = random.sample(self.memory, k=self.batch_size)\n",
    "\n",
    "        states = torch.from_numpy(np.vstack([e.state for e in experiences if e is not None])).float().to(device)\n",
    "        actions = torch.from_numpy(np.vstack([e.action for e in experiences if e is not None])).float().to(device)\n",
    "        rewards = torch.from_numpy(np.vstack([e.reward for e in experiences if e is not None])).float().to(device)\n",
    "        next_states = torch.from_numpy(np.vstack([e.next_state for e in experiences if e is not None])).float().to(device)\n",
    "        dones = torch.from_numpy(np.vstack([e.done for e in experiences if e is not None]).astype(np.uint8)).float().to(device)\n",
    "\n",
    "        return (states, actions, rewards, next_states, dones)\n",
    "\n",
    "    def __len__(self):\n",
    "        return len(self.memory)"
   ]
  },
  {
   "cell_type": "code",
   "execution_count": 5,
   "metadata": {},
   "outputs": [],
   "source": [
    "def hidden_init(layer):\n",
    "    fan_in = layer.weight.data.size()[0]\n",
    "    lim = 1. / np.sqrt(fan_in)\n",
    "    return (-lim, lim)"
   ]
  },
  {
   "cell_type": "code",
   "execution_count": 6,
   "metadata": {},
   "outputs": [],
   "source": [
    "class Actor(nn.Module):\n",
    "    \"\"\"Actor (Policy) Model.\"\"\"\n",
    "\n",
    "    def __init__(self, state_size, action_size, seed, fc1_units=100, fc2_units=200, fc3_units=100):\n",
    "        super(Actor, self).__init__()\n",
    "        self.seed = torch.manual_seed(seed)\n",
    "        self.bn0 = nn.BatchNorm1d(state_size)\n",
    "        self.fc1 = nn.Linear(state_size, fc1_units)\n",
    "        self.bn1 = nn.BatchNorm1d(fc1_units)\n",
    "        self.fc2 = nn.Linear(fc1_units, fc2_units)\n",
    "        self.bn2 = nn.BatchNorm1d(fc2_units)\n",
    "        self.fc3 = nn.Linear(fc2_units, fc3_units)\n",
    "        self.bn3 = nn.BatchNorm1d(fc3_units)\n",
    "        self.out = nn.Linear(fc3_units, action_size)\n",
    "        self.reset_parameters()\n",
    "\n",
    "    def reset_parameters(self):\n",
    "        self.fc1.weight.data.uniform_(*hidden_init(self.fc1))\n",
    "        self.fc2.weight.data.uniform_(*hidden_init(self.fc2))\n",
    "        self.fc3.weight.data.uniform_(*hidden_init(self.fc3))\n",
    "        self.out.weight.data.uniform_(-3e-3, 3e-3)\n",
    "\n",
    "    def forward(self, state):\n",
    "        a = self.bn0(state)\n",
    "        a = F.relu(self.bn1(self.fc1(a)))\n",
    "        a = F.relu(self.bn2(self.fc2(a)))\n",
    "        a = F.relu(self.bn3(self.fc3(a)))\n",
    "        a = torch.tanh(self.out(a))\n",
    "        return a"
   ]
  },
  {
   "cell_type": "code",
   "execution_count": 7,
   "metadata": {},
   "outputs": [],
   "source": [
    "class Critic(nn.Module):\n",
    "    \"\"\"Critic (Value) Model.\"\"\"\n",
    "\n",
    "    def __init__(self, state_size, action_size, seed, fc1_units=200, fc2_units=100, fc3_units=50):\n",
    "        super(Critic, self).__init__()\n",
    "        self.seed = torch.manual_seed(seed)\n",
    "        self.fc1 = nn.Linear(state_size, fc1_units)\n",
    "        self.fc2 = nn.Linear(fc1_units + action_size, fc2_units)\n",
    "        self.fc3 = nn.Linear(fc2_units, fc3_units)\n",
    "        self.out = nn.Linear(fc3_units, 1)\n",
    "        self.reset_parameters()\n",
    "\n",
    "    def reset_parameters(self):\n",
    "        self.fc1.weight.data.uniform_(*hidden_init(self.fc1))\n",
    "        self.fc2.weight.data.uniform_(*hidden_init(self.fc2))\n",
    "        self.fc3.weight.data.uniform_(*hidden_init(self.fc3))\n",
    "        self.out.weight.data.uniform_(-3e-3, 3e-3)\n",
    "\n",
    "    def forward(self, state, action):\n",
    "        v = F.relu(self.fc1(state))\n",
    "        v = F.relu(self.fc2(torch.cat((v, action), dim=1))) # Action is added to second layers input\n",
    "        v = F.relu(self.fc3(v))\n",
    "        v = self.out(v)\n",
    "        return v"
   ]
  },
  {
   "cell_type": "markdown",
   "metadata": {},
   "source": [
    "# Hyperparameters"
   ]
  },
  {
   "cell_type": "code",
   "execution_count": 8,
   "metadata": {},
   "outputs": [],
   "source": [
    "BUFFER_SIZE = int(1e5)  # replay buffer size\n",
    "BATCH_SIZE = 128        # minibatch size\n",
    "GAMMA = 0.99            # discount factor\n",
    "TAU = 0.001             # for soft update of target parameters\n",
    "LR_ACTOR = 0.005        # learning rate of the actor \n",
    "LR_CRITIC = 0.0005      # learning rate of the critic\n",
    "WEIGHT_DECAY = 0        # L2 weight decay\n",
    "UPDATE_FREQUENCY = 4\n",
    "UPDATE_AMOUNT = 1\n",
    "TRAINING_EPISODES = 500\n",
    "device = torch.device(\"cuda:0\" if torch.cuda.is_available() else \"cpu\")\n",
    "random_seed = 0\n",
    "env_solved = 30\n",
    "average_over = 100\n",
    "no_graphics = True"
   ]
  },
  {
   "cell_type": "markdown",
   "metadata": {},
   "source": [
    "# Setup\n",
    "\n",
    "Warning: Only run the below cell once!  If you wish to re-initialize the environment after running the below cell you must restart and clear the output of the entire notebook kernel."
   ]
  },
  {
   "cell_type": "code",
   "execution_count": 9,
   "metadata": {},
   "outputs": [
    {
     "name": "stderr",
     "output_type": "stream",
     "text": [
      "INFO:unityagents:\n",
      "'Academy' started successfully!\n",
      "Unity Academy name: Academy\n",
      "        Number of Brains: 1\n",
      "        Number of External Brains : 1\n",
      "        Lesson number : 0\n",
      "        Reset Parameters :\n",
      "\t\tgoal_size -> 5.0\n",
      "\t\tgoal_speed -> 1.0\n",
      "Unity brain name: ReacherBrain\n",
      "        Number of Visual Observations (per agent): 0\n",
      "        Vector Observation space type: continuous\n",
      "        Vector Observation space size (per agent): 33\n",
      "        Number of stacked Vector Observation: 1\n",
      "        Vector Action space type: continuous\n",
      "        Vector Action space size (per agent): 4\n",
      "        Vector Action descriptions: , , , \n"
     ]
    }
   ],
   "source": [
    "env = UnityEnvironment(file_name='Reacher_Windows_x86/Reacher.exe', no_graphics = no_graphics)\n",
    "\n",
    "brain_name = env.brain_names[0]\n",
    "env_info = env.reset(train_mode=False)[brain_name]\n",
    "brain = env.brains[brain_name]\n",
    "\n",
    "n_agents = len(env_info.agents)\n",
    "action_size = brain.vector_action_space_size\n",
    "state_size = len(env_info.vector_observations[0])\n",
    "agent = DDPG_Agent(state_size, action_size, n_agents, random_seed)\n",
    "\n",
    "save_models_above = 0\n",
    "avg_score_history = []"
   ]
  },
  {
   "cell_type": "markdown",
   "metadata": {},
   "source": [
    "# Training The Agent\n",
    "\n",
    "Running below cell with start the training process using setup from above."
   ]
  },
  {
   "cell_type": "code",
   "execution_count": 10,
   "metadata": {
    "scrolled": true
   },
   "outputs": [
    {
     "name": "stdout",
     "output_type": "stream",
     "text": [
      "Episode: 0 Average Score: 0.926 Average of Averages: 0.926\n",
      "Episode: 4 Average Score: 1.274 Average of Averages: 1.095\n",
      "Episode: 8 Average Score: 1.362 Average of Averages: 1.144\n",
      "Episode: 12 Average Score: 1.021 Average of Averages: 1.058\n",
      "Episode: 16 Average Score: 1.041 Average of Averages: 1.008\n",
      "Episode: 20 Average Score: 1.080 Average of Averages: 1.008\n",
      "Episode: 24 Average Score: 1.393 Average of Averages: 1.081\n",
      "Episode: 28 Average Score: 2.404 Average of Averages: 1.204\n",
      "Episode: 32 Average Score: 3.558 Average of Averages: 1.407\n",
      "Episode: 36 Average Score: 6.221 Average of Averages: 1.827\n",
      "Episode: 40 Average Score: 9.243 Average of Averages: 2.526\n",
      "Episode: 44 Average Score: 14.659 Average of Averages: 3.655\n",
      "Episode: 48 Average Score: 22.913 Average of Averages: 5.028\n",
      "Episode: 52 Average Score: 28.139 Average of Averages: 6.577\n",
      "Episode: 56 Average Score: 31.220 Average of Averages: 8.260\n",
      "Episode: 60 Average Score: 36.185 Average of Averages: 10.037\n",
      "Episode: 64 Average Score: 35.604 Average of Averages: 11.601\n",
      "Episode: 68 Average Score: 36.747 Average of Averages: 13.035\n",
      "Episode: 72 Average Score: 35.943 Average of Averages: 14.295\n",
      "Episode: 76 Average Score: 36.005 Average of Averages: 15.395\n",
      "Episode: 80 Average Score: 36.287 Average of Averages: 16.390\n",
      "Episode: 84 Average Score: 36.991 Average of Averages: 17.327\n",
      "Episode: 88 Average Score: 36.636 Average of Averages: 18.159\n",
      "Episode: 92 Average Score: 34.425 Average of Averages: 18.908\n",
      "Episode: 96 Average Score: 37.040 Average of Averages: 19.592\n",
      "Episode: 100 Average Score: 36.646 Average of Averages: 20.436\n",
      "Episode: 104 Average Score: 36.373 Average of Averages: 21.836\n",
      "Episode: 108 Average Score: 35.879 Average of Averages: 23.225\n",
      "Episode: 112 Average Score: 37.493 Average of Averages: 24.634\n",
      "Episode: 116 Average Score: 35.354 Average of Averages: 26.051\n",
      "Episode: 120 Average Score: 36.664 Average of Averages: 27.476\n",
      "Episode: 124 Average Score: 37.092 Average of Averages: 28.906\n",
      "Environment has been solved in 128 episodes!\n"
     ]
    }
   ],
   "source": [
    "for episode in range(TRAINING_EPISODES):\n",
    "    env_info = env.reset(train_mode=True)[brain_name]\n",
    "    states = env_info.vector_observations\n",
    "    scores = np.zeros(n_agents)\n",
    "    agent.reset()\n",
    "    dones = env_info.local_done\n",
    "    while not np.all(dones):\n",
    "        actions = agent.act(states)\n",
    "        env_info = env.step(actions)[brain_name]\n",
    "        next_states = env_info.vector_observations\n",
    "        rewards = env_info.rewards\n",
    "        dones = env_info.local_done\n",
    "        scores += rewards\n",
    "        agent.step(states, actions, rewards, next_states, dones)\n",
    "        states = next_states\n",
    "    avg_score = np.mean(scores)\n",
    "    avg_score_history.append(avg_score)\n",
    "    avg_of_avgs = np.mean(avg_score_history[-average_over:])\n",
    "    if avg_of_avgs > save_models_above:\n",
    "        save_model_above = avg_of_avgs\n",
    "        agent.save_models()\n",
    "        last_episode_models_saved = episode\n",
    "    if avg_of_avgs > env_solved:\n",
    "        print(\"Environment has been solved in\", episode, \"episodes!\")\n",
    "        break\n",
    "    if episode % 4 == 0:\n",
    "        print('Episode:', episode,'Average Score: %.3f' % avg_score, 'Average of Averages: %.3f' % avg_of_avgs)\n",
    "env.close()"
   ]
  },
  {
   "cell_type": "markdown",
   "metadata": {},
   "source": [
    "# Graphs"
   ]
  },
  {
   "cell_type": "code",
   "execution_count": 12,
   "metadata": {},
   "outputs": [
    {
     "name": "stdout",
     "output_type": "stream",
     "text": [
      "Last episode model saved: 128 Average Score: 30.27151432337891\n"
     ]
    }
   ],
   "source": [
    "print('Last episode model saved:', last_episode_models_saved, 'Average Score:', avg_of_avgs)"
   ]
  },
  {
   "cell_type": "code",
   "execution_count": 13,
   "metadata": {},
   "outputs": [],
   "source": [
    "def plot_avg_rewards(x, scores, figure_file):\n",
    "    running_avg = np.zeros(len(scores))\n",
    "    for i in range(len(running_avg)):\n",
    "        running_avg[i] = np.mean(scores[max(0,i-100):(i+1)])\n",
    "    plt.plot(x, running_avg)\n",
    "    plt.title('Average of Previous 100 Rewards for each Episode')\n",
    "    plt.savefig(figure_file)\n",
    "    plt.show()"
   ]
  },
  {
   "cell_type": "code",
   "execution_count": 20,
   "metadata": {
    "scrolled": true
   },
   "outputs": [
    {
     "data": {
      "image/png": "[encoded data removed]",
      "text/plain": [
       "<Figure size 432x288 with 1 Axes>"
      ]
     },
     "metadata": {
      "needs_background": "light"
     },
     "output_type": "display_data"
    }
   ],
   "source": [
    "x = [i+1 for i in range(last_episode_models_saved + 1)]\n",
    "figure_file = 'plots/avg_rewards.png'\n",
    "plot_avg_rewards(x, avg_score_history, figure_file)"
   ]
  },
  {
   "cell_type": "code",
   "execution_count": 21,
   "metadata": {},
   "outputs": [],
   "source": [
    "def plot_single_rewards(x, scores, figure_file):\n",
    "    plt.plot(x, scores)\n",
    "    plt.title('Reward per Episode')\n",
    "    plt.savefig(figure_file)\n",
    "    plt.show()"
   ]
  },
  {
   "cell_type": "code",
   "execution_count": 23,
   "metadata": {},
   "outputs": [
    {
     "data": {
      "image/png": "[encoded data removed]",
      "text/plain": [
       "<Figure size 432x288 with 1 Axes>"
      ]
     },
     "metadata": {
      "needs_background": "light"
     },
     "output_type": "display_data"
    }
   ],
   "source": [
    "figure_file = 'plots/single_rewards.png'\n",
    "plot_single_rewards(x, avg_score_history, figure_file)"
   ]
  }
 ],
 "metadata": {
  "kernelspec": {
   "display_name": "Python 3",
   "language": "python",
   "name": "python3"
  },
  "language_info": {
   "codemirror_mode": {
    "name": "ipython",
    "version": 3
   },
   "file_extension": ".py",
   "mimetype": "text/x-python",
   "name": "python",
   "nbconvert_exporter": "python",
   "pygments_lexer": "ipython3",
   "version": "3.8.1"
  }
 },
 "nbformat": 4,
 "nbformat_minor": 2
}
